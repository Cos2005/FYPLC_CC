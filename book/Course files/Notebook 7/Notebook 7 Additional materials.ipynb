{
 "cells": [
  {
   "cell_type": "markdown",
   "id": "0d1955cb",
   "metadata": {},
   "source": [
    "# Building GUIs \n",
    "\n",
    "## Introduction\n",
    "\n",
    "**Why Use a GUI?**\n",
    "\n",
    "A **Graphical User Interface (GUI)** makes interacting with programs easier and more intuitive by providing graphical elements such as buttons, text boxes, and file dialogs. While command-line programs are efficient, they may not be user-friendly for everyone. GUIs provide a visual way for users to interact with applications, making them more accessible for a wider audience.\n",
    "\n",
    "GUIs are useful in physics applications for tasks like:\n",
    "- Importing and visualizing data from experiments.\n",
    "- Providing control panels for simulations.\n",
    "- Allowing users to tweak parameters without modifying code.\n",
    "\n",
    "In this tutorial, we will guide you through the process of building a simple GUI using Python's **Tkinter** library. By the end, you will have built a program that allows you to import and plot data, which can be useful for data analysis and visualization in physics.\n"
   ]
  },
  {
   "cell_type": "markdown",
   "id": "455d1c05",
   "metadata": {},
   "source": [
    "## Getting Started: Importing Tkinter\n",
    "\n",
    "To start we need to import a libraby called Tkinter. After doing this we need to create a main application window. If you want any help or look at an example of Tkinter, take a look at the official tutorial of Tkinter library https://tkdocs.com/tutorial/firstexample.html ."
   ]
  },
  {
   "cell_type": "code",
   "execution_count": 39,
   "id": "3098329f",
   "metadata": {},
   "outputs": [],
   "source": [
    "# Import the required libraries\n",
    "import tkinter as tk"
   ]
  },
  {
   "cell_type": "markdown",
   "id": "62c0c327-543a-4038-87f6-82e4d3c50f92",
   "metadata": {},
   "source": [
    "Now create a main application window with the Tk command and give it a title with the title function."
   ]
  },
  {
   "cell_type": "code",
   "execution_count": 40,
   "id": "e7feb155-8b36-4abf-8dbc-503f6e2fbffd",
   "metadata": {},
   "outputs": [
    {
     "data": {
      "text/plain": [
       "''"
      ]
     },
     "execution_count": 40,
     "metadata": {},
     "output_type": "execute_result"
    }
   ],
   "source": [
    "# Create a window\n",
    "root = tk.Tk()\n",
    "\n",
    "# Set window title\n",
    "root.title(\"Simple Tkinter GUI\")\n"
   ]
  },
  {
   "cell_type": "markdown",
   "id": "1ab65c1f-2b73-4297-b59e-8a24ceddaafd",
   "metadata": {},
   "source": [
    "What we now need to do, is to give it a certain size and run it!"
   ]
  },
  {
   "cell_type": "code",
   "execution_count": 41,
   "id": "61570799-13a1-4042-bdb1-35400fc33bc0",
   "metadata": {},
   "outputs": [],
   "source": [
    "\n",
    "# Set window size\n",
    "root.geometry(\"400x300\")\n",
    "\n",
    "# Run the application\n",
    "root.mainloop()"
   ]
  },
  {
   "cell_type": "markdown",
   "id": "f87a2d13-4ad5-41c4-932f-9eb56190244e",
   "metadata": {},
   "source": [
    "As you can see it opens an external window and the cell keeps running until you close this window"
   ]
  },
  {
   "cell_type": "markdown",
   "id": "f8e7bde4",
   "metadata": {},
   "source": [
    "\n",
    "## Adding a Button\n",
    "\n",
    "Next, let's add a simple button to the window. This button can be added with the Button command. To do this, you need to include the previous steps again in this cell to create a new window with a new title. Otherwise you are going to run into some errors.\n"
   ]
  },
  {
   "cell_type": "code",
   "execution_count": 42,
   "id": "d5045813",
   "metadata": {},
   "outputs": [],
   "source": [
    "# Create a window\n",
    "root = tk.Tk()\n",
    "root.title(\"Button Example\")\n",
    "root.geometry(\"400x300\")\n",
    "\n",
    "# Create a button and place it in the window\n",
    "button = tk.Button(root, text=\"Click Me\")\n",
    "button.pack()\n",
    "\n",
    "# Run the application\n",
    "root.mainloop()\n"
   ]
  },
  {
   "cell_type": "markdown",
   "id": "056570c3",
   "metadata": {},
   "source": [
    "\n",
    "## Moving the Button (Using Layout Managers)\n",
    "\n",
    "After we have added a button, it is very useful to be able to use multiple buttons in a GUI and be able to place them wherever you would like\n",
    "Tkinter provides several layout managers, such as `pack()`, `grid()`, and `place()`, to arrange widgets in a window. In this cell, place a button wherever you like with one of these managers. Again, please create a new window\n"
   ]
  },
  {
   "cell_type": "code",
   "execution_count": 43,
   "id": "66d5a9fc",
   "metadata": {},
   "outputs": [],
   "source": [
    "# Create a window\n",
    "root = tk.Tk()\n",
    "root.title(\"Positioning Button\")\n",
    "root.geometry(\"400x300\")\n",
    "\n",
    "# Create a button and place it at specific coordinates\n",
    "button = tk.Button(root, text=\"Click Me\")\n",
    "button.place(x=150, y=100)  # x, y coordinates\n",
    "\n",
    "# Run the application\n",
    "root.mainloop()\n"
   ]
  },
  {
   "cell_type": "markdown",
   "id": "fd63ba01",
   "metadata": {},
   "source": [
    "\n",
    "## Adding Functionality: Button Click Event\n",
    "\n",
    "A button is very nice but if it does not do anything it is quite useless. Although some app developers have made quite a lot of money with useless apps. Let's add some functionality to the button, such as printing a message when clicked. This can be done by expanding the Button command.\n"
   ]
  },
  {
   "cell_type": "code",
   "execution_count": 44,
   "id": "817e961f",
   "metadata": {},
   "outputs": [
    {
     "name": "stdout",
     "output_type": "stream",
     "text": [
      "Button was clicked!\n",
      "Button was clicked!\n",
      "Button was clicked!\n"
     ]
    }
   ],
   "source": [
    "# Create a function to be called when the button is clicked\n",
    "def on_button_click():\n",
    "    print(\"Button was clicked!\")\n",
    "\n",
    "# Create a window\n",
    "root = tk.Tk()\n",
    "root.title(\"Button Event\")\n",
    "root.geometry(\"400x300\")\n",
    "\n",
    "# Create a button and bind the function to it\n",
    "button = tk.Button(root, text=\"Click Me\", command=on_button_click)\n",
    "button.place(x=150, y=100)\n",
    "\n",
    "# Run the application\n",
    "root.mainloop()\n"
   ]
  },
  {
   "cell_type": "markdown",
   "id": "f32eca2f",
   "metadata": {},
   "source": [
    "\n",
    "## Adding an Import File Button\n",
    "\n",
    "Many physics applications require users to import data files. Let's create a button that allows users to browse and select a file. There is a very useful command inside the tkinter package called filedialog.askopenfilename. Create a function with this command and check if it opens your 'Windows Explorer' or in dutch 'Verkenner' to see your data files and choose a file.\n"
   ]
  },
  {
   "cell_type": "code",
   "execution_count": 45,
   "id": "f1050303",
   "metadata": {},
   "outputs": [
    {
     "name": "stdout",
     "output_type": "stream",
     "text": [
      "File selected: \n"
     ]
    }
   ],
   "source": [
    "from tkinter import filedialog\n",
    "\n",
    "# Create a function to open a file dialog\n",
    "def import_file():\n",
    "    file_path = filedialog.askopenfilename()\n",
    "    print(\"File selected:\", file_path)\n",
    "\n",
    "# Create a window\n",
    "root = tk.Tk()\n",
    "root.title(\"File Import\")\n",
    "root.geometry(\"400x300\")\n",
    "\n",
    "# Create a button to import a file\n",
    "import_button = tk.Button(root, text=\"Import File\", command=import_file)\n",
    "import_button.place(x=150, y=100)\n",
    "\n",
    "# Run the application\n",
    "root.mainloop()\n"
   ]
  },
  {
   "cell_type": "markdown",
   "id": "02f7993b",
   "metadata": {},
   "source": [
    "\n",
    "## Final Exercise: Building a Data Import and Plotting GUI\n",
    "\n",
    "Now let's combine everything. This is more difficult than the previous exercises and it will take more effort to complete. We will also introduce another python package here which is very useful called pandas. This package has many functions built in to import, read and export data files of different types. In this case a simple csv file with data on x and y can be downloaded here. \n",
    "\n",
    "We will build a GUI that allows users to import a CSV file and plot its data using `matplotlib`. First make a function where you use the previous command filedialog.askopenfilename and then read a file with pandas. Google how to use pandas, and finally in this function also include a few statements to make a correct figure with labels etcetera.\n"
   ]
  },
  {
   "cell_type": "code",
   "execution_count": 46,
   "id": "e1025609",
   "metadata": {},
   "outputs": [
    {
     "data": {
      "image/png": "[encoded data removed]",
      "text/plain": [
       "<Figure size 640x480 with 1 Axes>"
      ]
     },
     "metadata": {},
     "output_type": "display_data"
    }
   ],
   "source": [
    "import pandas as pd\n",
    "import matplotlib.pyplot as plt\n",
    "\n",
    "# Function to open file dialog and import a CSV file\n",
    "def import_and_plot():\n",
    "    file_path = filedialog.askopenfilename(filetypes=[(\"CSV Files\", \"*.csv\")])\n",
    "    if file_path:\n",
    "        data = pd.read_csv(file_path,delimiter = ';')\n",
    "        # Assuming the file has two columns: x and y\n",
    "        plt.plot(data['x'], data['y'])\n",
    "        plt.xlabel('X-axis')\n",
    "        plt.ylabel('Y-axis')\n",
    "        plt.title('Plot from CSV data')\n",
    "        plt.show()\n",
    "\n",
    "# Create the GUI window\n",
    "root = tk.Tk()\n",
    "root.title(\"Data Import and Plot\")\n",
    "root.geometry(\"400x300\")\n",
    "\n",
    "# Create a button to import and plot data\n",
    "plot_button = tk.Button(root, text=\"Import CSV and Plot\", command=import_and_plot)\n",
    "plot_button.place(x=130, y=130)\n",
    "\n",
    "# Run the application\n",
    "root.mainloop()\n"
   ]
  },
  {
   "cell_type": "markdown",
   "id": "accc9c7e",
   "metadata": {},
   "source": [
    "\n",
    "## Conclusion\n",
    "\n",
    "In this tutorial, we introduced the concept of building GUIs using Python and Tkinter. You’ve learned how to:\n",
    "- Create a basic GUI window.\n",
    "- Add buttons and other interactive elements.\n",
    "- Handle file imports.\n",
    "- Visualize imported data using plotting tools like `matplotlib`.\n",
    "\n",
    "With these basic skills, you can now start building more complex applications tailored to your needs, such as creating control panels for simulations or visualizing experimental data in physics.\n"
   ]
  },
  {
   "cell_type": "markdown",
   "id": "d072a0b0",
   "metadata": {},
   "source": []
  }
 ],
 "metadata": {
  "kernelspec": {
   "display_name": "Python 3 (ipykernel)",
   "language": "python",
   "name": "python3"
  },
  "language_info": {
   "codemirror_mode": {
    "name": "ipython",
    "version": 3
   },
   "file_extension": ".py",
   "mimetype": "text/x-python",
   "name": "python",
   "nbconvert_exporter": "python",
   "pygments_lexer": "ipython3",
   "version": "3.8.18"
  }
 },
 "nbformat": 4,
 "nbformat_minor": 5
}
