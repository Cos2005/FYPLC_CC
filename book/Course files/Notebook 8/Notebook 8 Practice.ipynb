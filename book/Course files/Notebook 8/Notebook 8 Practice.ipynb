{
 "cells": [
  {
   "cell_type": "markdown",
   "metadata": {},
   "source": [
    "# Practice materials\n",
    "\n",
    "This notebook can be used to hone your Python skills or get some extra practice. To get the most out of this notebook, first try to make each exercise by yourself. If you really get stuck, solutions are provided at the bottom of the notebook.\n",
    "\n",
    "\n",
    "\n",
    "**1. Array slicing, editing, etc**\n",
    "\n",
    "a) Make an array running from 10 to 1200 (exclusive) in steps of 10. \n",
    "\n",
    "b) Use this array make a new array consisting of elements of values 20, 40, 60 and 80.\n",
    "\n",
    "c) Make an array using the first array, running backwards from 1190 to 10 (include).\n",
    "\n",
    "d) Calculate the average value of this array without using the numpy funcion average or mean.\n",
    "\n",
    "e) Merge the arrays from question 1a and 1c, and sort that array.\n",
    "\n",
    "f) Each value appears twice in this new array. Get rid of these double values so that you end up with the array of question 1a."
   ]
  },
  {
   "cell_type": "code",
   "execution_count": null,
   "metadata": {},
   "outputs": [],
   "source": [
    "# Your code"
   ]
  },
  {
   "cell_type": "markdown",
   "metadata": {},
   "source": [
    "**2. Math**\n",
    "\n",
    "a) Create an array consisting of $10^3$ uniform random elements between -10 and 10.\n",
    "\n",
    "b) Calculate the average value of these numbers as a function of N (the number of elements). ($\\mu(N) = \\sum_{i=0}^N \\frac{x_i}{N}$). Plot the average as a function of N. \n",
    "\n",
    "c) Calculate the difference between the average and new average as function of N ($\\Delta\\mu(N)=\\mu(N+1)-\\mu(N)$). Plot this difference using a log-log scale.\n",
    "\n",
    "d) The hypothesis is that the maximum value of the difference can be described by $\\max=\\frac{10}{N}$ and the minimum value $\\min=\\frac{10}{N^2}$. Investigate this hypothesis."
   ]
  },
  {
   "cell_type": "code",
   "execution_count": null,
   "metadata": {},
   "outputs": [],
   "source": [
    "# Your code"
   ]
  },
  {
   "cell_type": "markdown",
   "metadata": {},
   "source": [
    "**3. Monte Carlo**\n",
    "\n",
    "One wants to know how important the sample size is when using a monte-carlo simulation. To test this, one tries to calculate the area of a circle using a varying number of random points.\n",
    "\n",
    "a) Use a monte-carlo simulation to determine the area of a circle with a radius of r=1m using N=1000 random points\n",
    "\n",
    "b) Calculate the average (absolute) error of the monte-carlo simulations when using N=1000 random points over 100 simulations\n",
    "\n",
    "c) Plot the difference between the monte-carlo estimate and the actual area of a circle as a function of the number of points. Make sure to average the error at each sample size over 100 simulations to reduce noise.\n",
    "\n",
    "\n",
    "\n"
   ]
  },
  {
   "cell_type": "code",
   "execution_count": null,
   "metadata": {},
   "outputs": [],
   "source": [
    "# a)\n",
    "N = 1000\n",
    "\n",
    "random_x = ...\n",
    "random_y = ...\n",
    "\n",
    "...\n"
   ]
  },
  {
   "cell_type": "code",
   "execution_count": null,
   "metadata": {},
   "outputs": [],
   "source": [
    "# b)"
   ]
  },
  {
   "cell_type": "code",
   "execution_count": null,
   "metadata": {},
   "outputs": [],
   "source": [
    "# c)\n",
    "\n",
    "sample_sizes = np.arange(1, 200, 5, dtype=int)"
   ]
  },
  {
   "cell_type": "markdown",
   "metadata": {},
   "source": [
    "**4. Plots and curvefits**\n",
    "\n",
    "Chris discovers a new star in a galaxy far, far, away. He wants to know whether it could be suitable for supporting life. To this end, he wants to find the temperature and size of the star. He can measure the so-called spectral emmisive power for a few different wavelengths of light.\n",
    "The spectral emissive power is given by $P(\\lambda, T, A) = \\frac{A}{\\lambda^5} \\frac{2 \\hbar c^2}{e^{\\frac{\\hbar c}{\\lambda k_B T}} - 1}$, where $A$ is the area of the star, $\\lambda$ the wavelength of light, and $T$ the temperature of the star. \n",
    "\n",
    "a) Make a function that returns the spectral emissive power as a function of the wavelength $\\lambda$, the star's temperature $T$ and the star's radius $R$\n",
    "\n",
    "b) Load and use the data given in \"[star_data.txt](./star_data.txt)\" to find the temperature and radius of the star. In this file, the data is stored in a 2 by N array, where the first column gives wavelengths, and the second column contains the power measured at these wavelengths. \n",
    "\n",
    "c) Plot the data and the curvefit in two different plots: A plot with a logarithmic x-axis, and a log-log plot."
   ]
  },
  {
   "cell_type": "code",
   "execution_count": null,
   "metadata": {},
   "outputs": [],
   "source": [
    "hbar = 1.0545718e-34 # Js\n",
    "kB = 1.38064852e-23 # J/K\n",
    "c = 299792458 # m/s\n",
    "\n",
    "# a)"
   ]
  },
  {
   "cell_type": "code",
   "execution_count": null,
   "metadata": {},
   "outputs": [],
   "source": [
    "# b)"
   ]
  },
  {
   "cell_type": "code",
   "execution_count": null,
   "metadata": {},
   "outputs": [],
   "source": [
    "# c)"
   ]
  },
  {
   "cell_type": "markdown",
   "metadata": {},
   "source": [
    "**Solutions to exercises**\n",
    "\n",
    "Only use these to check your answers or if you really get stuck!"
   ]
  },
  {
   "cell_type": "code",
   "execution_count": null,
   "metadata": {},
   "outputs": [],
   "source": [
    "### Exercise 1\n",
    "\n",
    "### BEGIN_SOLUTION\n",
    "import numpy as np\n",
    "\n",
    "array_a = np.arange(10,1200,10)\n",
    "print(array_a)\n",
    "\n",
    "array_b = array_a[1:9:2]\n",
    "print(array_b) \n",
    "\n",
    "array_c = array_a[::-1]\n",
    "print(array_c)\n",
    "\n",
    "av_d = sum(array_c)/len(array_c)\n",
    "print(av_d)\n",
    "\n",
    "array_e = np.sort(np.concatenate((array_a,array_c)))\n",
    "print(array_e)\n",
    "\n",
    "array_f = array_e[::2]\n",
    "print(array_f)\n",
    "### END_SOLUTION"
   ]
  },
  {
   "cell_type": "code",
   "execution_count": null,
   "metadata": {},
   "outputs": [],
   "source": [
    "### Exercise 2\n",
    "\n",
    "### BEGIN_SOLUTION\n",
    "import numpy as np\n",
    "import matplotlib.pyplot as plt\n",
    "\n",
    "array_uni = np.random.uniform(-10,10,int(1e4))\n",
    "\n",
    "array_average = np.array([])\n",
    "for i in range(len(array_uni)):\n",
    "    array_average = np.append(array_average,np.mean(array_uni[:i]))\n",
    "\n",
    "plt.figure()\n",
    "plt.plot(array_average,'k.')\n",
    "plt.xlabel('N')\n",
    "plt.ylabel('average')\n",
    "plt.xscale('log')\n",
    "plt.show()\n",
    "\n",
    "difference_average = array_average[1:]-array_average[:-1]\n",
    "\n",
    "x = np.arange(0,1e4)\n",
    "y = 10/x\n",
    "\n",
    "\n",
    "plt.figure()\n",
    "plt.plot(difference_average,'k.')\n",
    "plt.plot(x,y,'r--')\n",
    "plt.plot(x,10/x**2,'b--')\n",
    "plt.yscale('log')\n",
    "plt.xscale('log')\n",
    "plt.show()\n",
    "### END_SOLUTION"
   ]
  },
  {
   "cell_type": "code",
   "execution_count": null,
   "metadata": {},
   "outputs": [],
   "source": [
    "### Exercise 3\n",
    "\n",
    "### BEGIN SOLUTION \n",
    "import numpy as np\n",
    "import matplotlib.pyplot as plt\n",
    "\n",
    "# a)\n",
    "N = 1000\n",
    "\n",
    "random_x = np.random.uniform(-1, 1, N)\n",
    "random_y = np.random.uniform(-1, 1, N)\n",
    "\n",
    "count = 0\n",
    "for i in range(N):\n",
    "    if random_x[i]**2 + random_y[i]**2 <= 1:\n",
    "        count += 1\n",
    "        \n",
    "print(4 * count/N)\n",
    "\n",
    "## of\n",
    "\n",
    "count = sum(random_x**2 + random_y**2 <= 1)\n",
    "print(4 * count/N)\n",
    "\n",
    "# b)\n",
    "\n",
    "errors = np.array([])\n",
    "for k in range(100):\n",
    "    random_x = np.random.uniform(-1, 1, N)\n",
    "    random_y = np.random.uniform(-1, 1, N)\n",
    "    \n",
    "    count = sum(random_x**2 + random_y**2)\n",
    "    estimate = 4*count/N\n",
    "    error = np.abs(np.pi-estimate)\n",
    "    errors = np.append(errors, error)\n",
    "print(np.mean(errors))\n",
    "    \n",
    "# c)\n",
    "mean_errors = np.array([])\n",
    "sample_sizes = np.arange(1, 100, 5, dtype=int)\n",
    "\n",
    "for N in sample_sizes:\n",
    "    \n",
    "    errors = np.array([])\n",
    "    for k in range(100):\n",
    "        random_x = np.random.uniform(-1, 1, N)\n",
    "        random_y = np.random.uniform(-1, 1, N)\n",
    "                \n",
    "        count = sum(random_x**2 + random_y**2 <= 1)\n",
    "\n",
    "        estimate = 4*count/N\n",
    "        errors = np.append(errors, (np.abs(np.pi - estimate)))\n",
    "        \n",
    "        \n",
    "    mean_errors = np.append(mean_errors, np.mean(errors))\n",
    "\n",
    "plt.plot(sample_sizes, mean_errors, \".\")\n",
    "plt.xlabel(\"Sample size\")\n",
    "plt.ylabel(\"Mean error\")\n",
    "### END SOLUTION"
   ]
  },
  {
   "cell_type": "code",
   "execution_count": null,
   "metadata": {},
   "outputs": [],
   "source": [
    "### Exercise 4\n",
    "\n",
    "### BEGIN SOLUTION\n",
    "import numpy as np\n",
    "from scipy.optimize import curve_fit\n",
    "import matplotlib.pyplot as plt\n",
    "hbar = 1.0545718e-34 # Js\n",
    "kB = 1.38064852e-23 # J/K\n",
    "c = 299792458 # m/s\n",
    "\n",
    "# a)\n",
    "def get_power(wavelength, T, R):\n",
    "    return 4*np.pi*R**2 * 2 * hbar * c**2 / wavelength**5 * 1 / (np.exp(hbar * c / (wavelength * kB * T)) - 1)\n",
    "\n",
    "# b)\n",
    "data = np.loadtxt(\"star_data.txt\")\n",
    "wavelengths = data[0]\n",
    "power = data[1]\n",
    "popt, pcov = curve_fit(get_power, wavelengths, power, p0=[1000, 1e9])\n",
    "\n",
    "print(f\"The temperature of the star is {popt[0]:.2f} K and the radius is {popt[1]:.2e} m\")\n",
    "\n",
    "# c)\n",
    "x = np.logspace(-8.2, -6, 1000)\n",
    "\n",
    "plt.plot(wavelengths, power, 'r.')\n",
    "plt.plot(x, get_power(x, *popt))\n",
    "plt.xscale('log')\n",
    "plt.show()\n",
    "\n",
    "plt.plot(wavelengths, power, 'r.')\n",
    "plt.xlabel('Wavelength')\n",
    "plt.ylabel('Power')\n",
    "plt.xscale('log')\n",
    "plt.yscale('log')\n",
    "plt.show()\n",
    "### END SOLUTION"
   ]
  },
  {
   "cell_type": "code",
   "execution_count": null,
   "metadata": {},
   "outputs": [],
   "source": []
  }
 ],
 "metadata": {
  "kernelspec": {
   "display_name": "Python 3",
   "language": "python",
   "name": "python3"
  },
  "language_info": {
   "codemirror_mode": {
    "name": "ipython",
    "version": 3
   },
   "file_extension": ".py",
   "mimetype": "text/x-python",
   "name": "python",
   "nbconvert_exporter": "python",
   "pygments_lexer": "ipython3",
   "version": "3.12.1"
  }
 },
 "nbformat": 4,
 "nbformat_minor": 2
}
